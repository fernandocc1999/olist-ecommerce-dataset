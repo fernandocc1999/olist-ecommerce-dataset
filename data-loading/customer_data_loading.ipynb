{
 "cells": [
  {
   "cell_type": "markdown",
   "id": "b02a4cd8-99a6-4bdc-b761-ecb2e3f055c9",
   "metadata": {},
   "source": [
    "# "
   ]
  },
  {
   "cell_type": "markdown",
   "id": "e4081bb0",
   "metadata": {},
   "source": [
    "# **Customer Data Transformation: Local CSV to Processed Data**"
   ]
  },
  {
   "cell_type": "markdown",
   "id": "fbcabd4c",
   "metadata": {},
   "source": [
    "#### **Import necessary libraries**"
   ]
  },
  {
   "cell_type": "code",
   "execution_count": 16,
   "id": "18b9de09-78ff-4c37-8b2c-c905f2dfd7d2",
   "metadata": {},
   "outputs": [],
   "source": [
    "import pandas as pd\n",
    "import os\n",
    "\n",
    "from IPython.display import display\n"
   ]
  },
  {
   "cell_type": "markdown",
   "id": "e97a0951",
   "metadata": {},
   "source": [
    "#### **Paths to files**"
   ]
  },
  {
   "cell_type": "code",
   "execution_count": 17,
   "id": "7a66c066",
   "metadata": {},
   "outputs": [],
   "source": [
    "base_path = os.path.dirname(os.getcwd()) \n",
    "\n",
    "raw_data_path = os.path.join(base_path, 'raw-data', 'olist_customers_dataset.csv')\n",
    "processed_data_path = os.path.join(base_path, 'processed-data', 'olist_customers_dataset_transformed.parquet')"
   ]
  },
  {
   "cell_type": "markdown",
   "id": "a341eac2",
   "metadata": {},
   "source": [
    "#### **Load the raw dataset**"
   ]
  },
  {
   "cell_type": "code",
   "execution_count": 20,
   "id": "f1abb3e6",
   "metadata": {},
   "outputs": [
    {
     "name": "stdout",
     "output_type": "stream",
     "text": [
      "Loading the dataset...\n",
      "Dataset loaded successfully!\n",
      "Sample of the raw dataset:\n"
     ]
    },
    {
     "data": {
      "text/html": [
       "<div>\n",
       "<style scoped>\n",
       "    .dataframe tbody tr th:only-of-type {\n",
       "        vertical-align: middle;\n",
       "    }\n",
       "\n",
       "    .dataframe tbody tr th {\n",
       "        vertical-align: top;\n",
       "    }\n",
       "\n",
       "    .dataframe thead th {\n",
       "        text-align: right;\n",
       "    }\n",
       "</style>\n",
       "<table border=\"1\" class=\"dataframe\">\n",
       "  <thead>\n",
       "    <tr style=\"text-align: right;\">\n",
       "      <th></th>\n",
       "      <th>customer_id</th>\n",
       "      <th>customer_unique_id</th>\n",
       "      <th>customer_zip_code_prefix</th>\n",
       "      <th>customer_city</th>\n",
       "      <th>customer_state</th>\n",
       "    </tr>\n",
       "  </thead>\n",
       "  <tbody>\n",
       "    <tr>\n",
       "      <th>0</th>\n",
       "      <td>06b8999e2fba1a1fbc88172c00ba8bc7</td>\n",
       "      <td>861eff4711a542e4b93843c6dd7febb0</td>\n",
       "      <td>14409</td>\n",
       "      <td>franca</td>\n",
       "      <td>SP</td>\n",
       "    </tr>\n",
       "    <tr>\n",
       "      <th>1</th>\n",
       "      <td>18955e83d337fd6b2def6b18a428ac77</td>\n",
       "      <td>290c77bc529b7ac935b93aa66c333dc3</td>\n",
       "      <td>9790</td>\n",
       "      <td>sao bernardo do campo</td>\n",
       "      <td>SP</td>\n",
       "    </tr>\n",
       "    <tr>\n",
       "      <th>2</th>\n",
       "      <td>4e7b3e00288586ebd08712fdd0374a03</td>\n",
       "      <td>060e732b5b29e8181a18229c7b0b2b5e</td>\n",
       "      <td>1151</td>\n",
       "      <td>sao paulo</td>\n",
       "      <td>SP</td>\n",
       "    </tr>\n",
       "    <tr>\n",
       "      <th>3</th>\n",
       "      <td>b2b6027bc5c5109e529d4dc6358b12c3</td>\n",
       "      <td>259dac757896d24d7702b9acbbff3f3c</td>\n",
       "      <td>8775</td>\n",
       "      <td>mogi das cruzes</td>\n",
       "      <td>SP</td>\n",
       "    </tr>\n",
       "    <tr>\n",
       "      <th>4</th>\n",
       "      <td>4f2d8ab171c80ec8364f7c12e35b23ad</td>\n",
       "      <td>345ecd01c38d18a9036ed96c73b8d066</td>\n",
       "      <td>13056</td>\n",
       "      <td>campinas</td>\n",
       "      <td>SP</td>\n",
       "    </tr>\n",
       "    <tr>\n",
       "      <th>5</th>\n",
       "      <td>879864dab9bc3047522c92c82e1212b8</td>\n",
       "      <td>4c93744516667ad3b8f1fb645a3116a4</td>\n",
       "      <td>89254</td>\n",
       "      <td>jaragua do sul</td>\n",
       "      <td>SC</td>\n",
       "    </tr>\n",
       "    <tr>\n",
       "      <th>6</th>\n",
       "      <td>fd826e7cf63160e536e0908c76c3f441</td>\n",
       "      <td>addec96d2e059c80c30fe6871d30d177</td>\n",
       "      <td>4534</td>\n",
       "      <td>sao paulo</td>\n",
       "      <td>SP</td>\n",
       "    </tr>\n",
       "    <tr>\n",
       "      <th>7</th>\n",
       "      <td>5e274e7a0c3809e14aba7ad5aae0d407</td>\n",
       "      <td>57b2a98a409812fe9618067b6b8ebe4f</td>\n",
       "      <td>35182</td>\n",
       "      <td>timoteo</td>\n",
       "      <td>MG</td>\n",
       "    </tr>\n",
       "    <tr>\n",
       "      <th>8</th>\n",
       "      <td>5adf08e34b2e993982a47070956c5c65</td>\n",
       "      <td>1175e95fb47ddff9de6b2b06188f7e0d</td>\n",
       "      <td>81560</td>\n",
       "      <td>curitiba</td>\n",
       "      <td>PR</td>\n",
       "    </tr>\n",
       "    <tr>\n",
       "      <th>9</th>\n",
       "      <td>4b7139f34592b3a31687243a302fa75b</td>\n",
       "      <td>9afe194fb833f79e300e37e580171f22</td>\n",
       "      <td>30575</td>\n",
       "      <td>belo horizonte</td>\n",
       "      <td>MG</td>\n",
       "    </tr>\n",
       "  </tbody>\n",
       "</table>\n",
       "</div>"
      ],
      "text/plain": [
       "                        customer_id                customer_unique_id  \\\n",
       "0  06b8999e2fba1a1fbc88172c00ba8bc7  861eff4711a542e4b93843c6dd7febb0   \n",
       "1  18955e83d337fd6b2def6b18a428ac77  290c77bc529b7ac935b93aa66c333dc3   \n",
       "2  4e7b3e00288586ebd08712fdd0374a03  060e732b5b29e8181a18229c7b0b2b5e   \n",
       "3  b2b6027bc5c5109e529d4dc6358b12c3  259dac757896d24d7702b9acbbff3f3c   \n",
       "4  4f2d8ab171c80ec8364f7c12e35b23ad  345ecd01c38d18a9036ed96c73b8d066   \n",
       "5  879864dab9bc3047522c92c82e1212b8  4c93744516667ad3b8f1fb645a3116a4   \n",
       "6  fd826e7cf63160e536e0908c76c3f441  addec96d2e059c80c30fe6871d30d177   \n",
       "7  5e274e7a0c3809e14aba7ad5aae0d407  57b2a98a409812fe9618067b6b8ebe4f   \n",
       "8  5adf08e34b2e993982a47070956c5c65  1175e95fb47ddff9de6b2b06188f7e0d   \n",
       "9  4b7139f34592b3a31687243a302fa75b  9afe194fb833f79e300e37e580171f22   \n",
       "\n",
       "   customer_zip_code_prefix          customer_city customer_state  \n",
       "0                     14409                 franca             SP  \n",
       "1                      9790  sao bernardo do campo             SP  \n",
       "2                      1151              sao paulo             SP  \n",
       "3                      8775        mogi das cruzes             SP  \n",
       "4                     13056               campinas             SP  \n",
       "5                     89254         jaragua do sul             SC  \n",
       "6                      4534              sao paulo             SP  \n",
       "7                     35182                timoteo             MG  \n",
       "8                     81560               curitiba             PR  \n",
       "9                     30575         belo horizonte             MG  "
      ]
     },
     "metadata": {},
     "output_type": "display_data"
    }
   ],
   "source": [
    "print(\"Loading the dataset...\")\n",
    "df_raw = pd.read_csv(raw_data_path)\n",
    "print(\"Dataset loaded successfully!\")\n",
    "\n",
    "# Display a sample of the data\n",
    "print(\"Sample of the raw dataset:\")\n",
    "display(df_raw.head(10))\n"
   ]
  },
  {
   "cell_type": "markdown",
   "id": "c688ad79",
   "metadata": {},
   "source": [
    "#### **Check for null values and dataset information**"
   ]
  },
  {
   "cell_type": "code",
   "execution_count": 23,
   "id": "dd6e1972",
   "metadata": {},
   "outputs": [
    {
     "name": "stdout",
     "output_type": "stream",
     "text": [
      "\n",
      "Raw dataset information:\n",
      "<class 'pandas.core.frame.DataFrame'>\n",
      "RangeIndex: 99441 entries, 0 to 99440\n",
      "Data columns (total 5 columns):\n",
      " #   Column                    Non-Null Count  Dtype \n",
      "---  ------                    --------------  ----- \n",
      " 0   customer_id               99441 non-null  object\n",
      " 1   customer_unique_id        99441 non-null  object\n",
      " 2   customer_zip_code_prefix  99441 non-null  int64 \n",
      " 3   customer_city             99441 non-null  object\n",
      " 4   customer_state            99441 non-null  object\n",
      "dtypes: int64(1), object(4)\n",
      "memory usage: 3.8+ MB\n",
      "\n",
      "Count of null values per column:\n",
      "customer_id                 0\n",
      "customer_unique_id          0\n",
      "customer_zip_code_prefix    0\n",
      "customer_city               0\n",
      "customer_state              0\n",
      "dtype: int64\n"
     ]
    }
   ],
   "source": [
    "print(\"\\nRaw dataset information:\")\n",
    "df_raw.info()\n",
    "\n",
    "print(\"\\nCount of null values per column:\")\n",
    "print(df_raw.isnull().sum())"
   ]
  },
  {
   "cell_type": "markdown",
   "id": "d3c4bd8c",
   "metadata": {},
   "source": [
    "#### **Apply transformations to clean the dataset**"
   ]
  },
  {
   "cell_type": "code",
   "execution_count": 24,
   "id": "56d941a6",
   "metadata": {},
   "outputs": [
    {
     "name": "stdout",
     "output_type": "stream",
     "text": [
      "\n",
      "Transforming the data...\n",
      "Sample of the cleaned dataset:\n"
     ]
    },
    {
     "data": {
      "text/html": [
       "<div>\n",
       "<style scoped>\n",
       "    .dataframe tbody tr th:only-of-type {\n",
       "        vertical-align: middle;\n",
       "    }\n",
       "\n",
       "    .dataframe tbody tr th {\n",
       "        vertical-align: top;\n",
       "    }\n",
       "\n",
       "    .dataframe thead th {\n",
       "        text-align: right;\n",
       "    }\n",
       "</style>\n",
       "<table border=\"1\" class=\"dataframe\">\n",
       "  <thead>\n",
       "    <tr style=\"text-align: right;\">\n",
       "      <th></th>\n",
       "      <th>customer_id</th>\n",
       "      <th>customer_unique_id</th>\n",
       "      <th>customer_zip_code_prefix</th>\n",
       "      <th>customer_city</th>\n",
       "      <th>customer_state</th>\n",
       "    </tr>\n",
       "  </thead>\n",
       "  <tbody>\n",
       "    <tr>\n",
       "      <th>0</th>\n",
       "      <td>06b8999e2fba1a1fbc88172c00ba8bc7</td>\n",
       "      <td>861eff4711a542e4b93843c6dd7febb0</td>\n",
       "      <td>14409</td>\n",
       "      <td>franca</td>\n",
       "      <td>SP</td>\n",
       "    </tr>\n",
       "    <tr>\n",
       "      <th>1</th>\n",
       "      <td>18955e83d337fd6b2def6b18a428ac77</td>\n",
       "      <td>290c77bc529b7ac935b93aa66c333dc3</td>\n",
       "      <td>9790</td>\n",
       "      <td>sao bernardo do campo</td>\n",
       "      <td>SP</td>\n",
       "    </tr>\n",
       "    <tr>\n",
       "      <th>2</th>\n",
       "      <td>4e7b3e00288586ebd08712fdd0374a03</td>\n",
       "      <td>060e732b5b29e8181a18229c7b0b2b5e</td>\n",
       "      <td>1151</td>\n",
       "      <td>sao paulo</td>\n",
       "      <td>SP</td>\n",
       "    </tr>\n",
       "    <tr>\n",
       "      <th>3</th>\n",
       "      <td>b2b6027bc5c5109e529d4dc6358b12c3</td>\n",
       "      <td>259dac757896d24d7702b9acbbff3f3c</td>\n",
       "      <td>8775</td>\n",
       "      <td>mogi das cruzes</td>\n",
       "      <td>SP</td>\n",
       "    </tr>\n",
       "    <tr>\n",
       "      <th>4</th>\n",
       "      <td>4f2d8ab171c80ec8364f7c12e35b23ad</td>\n",
       "      <td>345ecd01c38d18a9036ed96c73b8d066</td>\n",
       "      <td>13056</td>\n",
       "      <td>campinas</td>\n",
       "      <td>SP</td>\n",
       "    </tr>\n",
       "  </tbody>\n",
       "</table>\n",
       "</div>"
      ],
      "text/plain": [
       "                        customer_id                customer_unique_id  \\\n",
       "0  06b8999e2fba1a1fbc88172c00ba8bc7  861eff4711a542e4b93843c6dd7febb0   \n",
       "1  18955e83d337fd6b2def6b18a428ac77  290c77bc529b7ac935b93aa66c333dc3   \n",
       "2  4e7b3e00288586ebd08712fdd0374a03  060e732b5b29e8181a18229c7b0b2b5e   \n",
       "3  b2b6027bc5c5109e529d4dc6358b12c3  259dac757896d24d7702b9acbbff3f3c   \n",
       "4  4f2d8ab171c80ec8364f7c12e35b23ad  345ecd01c38d18a9036ed96c73b8d066   \n",
       "\n",
       "   customer_zip_code_prefix          customer_city customer_state  \n",
       "0                     14409                 franca             SP  \n",
       "1                      9790  sao bernardo do campo             SP  \n",
       "2                      1151              sao paulo             SP  \n",
       "3                      8775        mogi das cruzes             SP  \n",
       "4                     13056               campinas             SP  "
      ]
     },
     "metadata": {},
     "output_type": "display_data"
    }
   ],
   "source": [
    "print(\"\\nTransforming the data...\")\n",
    "df_cleaned = (\n",
    "    df_raw\n",
    "    .drop_duplicates(subset=[\"customer_id\"])  # Remove duplicates based on customer_id\n",
    ")\n",
    "\n",
    "# Display a sample of the cleaned dataset\n",
    "print(\"Sample of the cleaned dataset:\")\n",
    "display(df_cleaned.head())\n"
   ]
  },
  {
   "cell_type": "markdown",
   "id": "07261d30",
   "metadata": {},
   "source": [
    "#### **Save the cleaned dataset**"
   ]
  },
  {
   "cell_type": "code",
   "execution_count": 27,
   "id": "db4459ff",
   "metadata": {},
   "outputs": [
    {
     "name": "stdout",
     "output_type": "stream",
     "text": [
      "\n",
      "Saving the cleaned dataset...\n",
      "Cleaned dataset saved successfully at: c:\\Users\\Fernando Correia\\Desktop\\Olist Ecommerce Tese\\processed-data\\olist_customers_dataset_transformed.parquet\n"
     ]
    }
   ],
   "source": [
    "print(\"\\nSaving the cleaned dataset...\")\n",
    "df_cleaned.to_parquet(processed_data_path, index=False, engine='pyarrow')\n",
    "print(f\"Cleaned dataset saved successfully at: {processed_data_path.replace('.csv', '.parquet')}\")\n"
   ]
  }
 ],
 "metadata": {
  "kernelspec": {
   "display_name": "Python 3",
   "language": "python",
   "name": "python3"
  },
  "language_info": {
   "codemirror_mode": {
    "name": "ipython",
    "version": 3
   },
   "file_extension": ".py",
   "mimetype": "text/x-python",
   "name": "python",
   "nbconvert_exporter": "python",
   "pygments_lexer": "ipython3",
   "version": "3.13.1"
  }
 },
 "nbformat": 4,
 "nbformat_minor": 5
}
